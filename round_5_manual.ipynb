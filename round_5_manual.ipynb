{
 "cells": [
  {
   "cell_type": "code",
   "execution_count": 49,
   "metadata": {},
   "outputs": [],
   "source": [
    "import numpy as np\n",
    "import cvxpy as cp"
   ]
  },
  {
   "cell_type": "code",
   "execution_count": 55,
   "metadata": {},
   "outputs": [],
   "source": [
    "sentiments = {\n",
    "    'Ranch sauce': 0.1,\n",
    "    'Cacti Needle': -0.4,\n",
    "    'Solar panels': -0.3,\n",
    "    'Red Flags': 0.15,\n",
    "    'VR Monocle': 0.45,\n",
    "    'Quantum Coffee': -0.25,\n",
    "}\n",
    "\n",
    "products = list(sentiments.keys())"
   ]
  },
  {
   "cell_type": "code",
   "execution_count": 56,
   "metadata": {},
   "outputs": [
    {
     "name": "stdout",
     "output_type": "stream",
     "text": [
      "Polishing not needed - no active set detected at optimal point\n",
      "Optimal allocation without integer constraints:\n",
      "Position in Ranch sauce: 4.17%\n",
      "Position in Cacti Needle: -16.67%\n",
      "Position in Solar panels: -12.50%\n",
      "Position in Red Flags: 6.25%\n",
      "Position in VR Monocle: 18.75%\n",
      "Position in Quantum Coffee: -10.42%\n"
     ]
    }
   ],
   "source": [
    "rets = np.array([sentiments[products[i-1]] for i in range(1,7)])\n",
    "pi = cp.Variable(6)\n",
    "objective = cp.Minimize(120 * cp.sum_squares(pi) - 10000 * rets.T @ pi)\n",
    "constraints = [cp.norm(pi, 1) <= 100]\n",
    "prob = cp.Problem(objective, constraints)\n",
    "\n",
    "prob.solve()\n",
    "print('Optimal allocation without integer constraints:')\n",
    "for i in range(6):\n",
    "    print(\"Position in \", products[i], ': ', f\"{pi.value[i]:,.2f}\", '%', sep='')"
   ]
  }
 ],
 "metadata": {
  "kernelspec": {
   "display_name": "myenv",
   "language": "python",
   "name": "python3"
  },
  "language_info": {
   "codemirror_mode": {
    "name": "ipython",
    "version": 3
   },
   "file_extension": ".py",
   "mimetype": "text/x-python",
   "name": "python",
   "nbconvert_exporter": "python",
   "pygments_lexer": "ipython3",
   "version": "3.12.5"
  }
 },
 "nbformat": 4,
 "nbformat_minor": 2
}
