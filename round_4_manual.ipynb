{
 "cells": [
  {
   "cell_type": "code",
   "execution_count": 1,
   "metadata": {},
   "outputs": [
    {
     "name": "stdout",
     "output_type": "stream",
     "text": [
      "[{'multiplier': 73, 'inhabitants': 4, 'real_percent': 24.06, 'value': 182500.0}, {'multiplier': 70, 'inhabitants': 4, 'real_percent': 24.06, 'value': 175000.0}, {'multiplier': 17, 'inhabitants': 1, 'real_percent': 7.539, 'value': 170000.0}, {'multiplier': 79, 'inhabitants': 5, 'real_percent': 24.06, 'value': 158000.0}, {'multiplier': 47, 'inhabitants': 3, 'real_percent': 5.118, 'value': 156666.66666666666}, {'multiplier': 31, 'inhabitants': 2, 'real_percent': 6.987, 'value': 155000.0}, {'multiplier': 60, 'inhabitants': 4, 'real_percent': 8.516, 'value': 150000.0}, {'multiplier': 30, 'inhabitants': 2, 'real_percent': 6.987, 'value': 150000.0}, {'multiplier': 41, 'inhabitants': 3, 'real_percent': 5.118, 'value': 136666.66666666666}, {'multiplier': 80, 'inhabitants': 6, 'real_percent': 18.178, 'value': 133333.33333333334}, {'multiplier': 40, 'inhabitants': 3, 'real_percent': 5.118, 'value': 133333.33333333334}, {'multiplier': 50, 'inhabitants': 4, 'real_percent': 8.516, 'value': 125000.0}, {'multiplier': 37, 'inhabitants': 3, 'real_percent': 5.118, 'value': 123333.33333333333}, {'multiplier': 83, 'inhabitants': 7, 'real_percent': 18.178, 'value': 118571.42857142857}, {'multiplier': 23, 'inhabitants': 2, 'real_percent': 1.614, 'value': 115000.0}, {'multiplier': 89, 'inhabitants': 8, 'real_percent': 15.184, 'value': 111250.0}, {'multiplier': 20, 'inhabitants': 2, 'real_percent': 1.614, 'value': 100000.0}, {'multiplier': 10, 'inhabitants': 1, 'real_percent': 0.998, 'value': 100000.0}, {'multiplier': 90, 'inhabitants': 10, 'real_percent': 11.807, 'value': 90000.0}, {'multiplier': 100, 'inhabitants': 15, 'real_percent': 11.807, 'value': 66666.66666666667}]\n",
      "Max 1: 182500.0, suitcase: 73x\n",
      "Max 2: 307500.0, suitcases: 73x, 70x\n",
      "Max 3: 377500.0, suitcases: 73x, 70x, 17x\n"
     ]
    }
   ],
   "source": [
    "import math\n",
    "\n",
    "suitcases = [\n",
    "    {'multiplier': 100, 'inhabitants': 15, 'real_percent': 11.807},\n",
    "    {'multiplier': 90, 'inhabitants': 10, 'real_percent': 11.807},\n",
    "    {'multiplier': 89, 'inhabitants': 8, 'real_percent': 15.184},\n",
    "    {'multiplier': 83, 'inhabitants': 7, 'real_percent': 18.178},\n",
    "    {'multiplier': 80, 'inhabitants': 6, 'real_percent': 18.178},\n",
    "    {'multiplier': 79, 'inhabitants': 5, 'real_percent': 24.060},\n",
    "    {'multiplier': 73, 'inhabitants': 4, 'real_percent': 24.060},\n",
    "    {'multiplier': 70, 'inhabitants': 4, 'real_percent': 24.060},\n",
    "    {'multiplier': 60, 'inhabitants': 4, 'real_percent': 8.516},\n",
    "    {'multiplier': 50, 'inhabitants': 4, 'real_percent': 8.516},\n",
    "    {'multiplier': 47, 'inhabitants': 3, 'real_percent': 5.118},\n",
    "    {'multiplier': 41, 'inhabitants': 3, 'real_percent': 5.118},\n",
    "    {'multiplier': 40, 'inhabitants': 3, 'real_percent': 5.118},\n",
    "    {'multiplier': 37, 'inhabitants': 3, 'real_percent': 5.118},\n",
    "    {'multiplier': 31, 'inhabitants': 2, 'real_percent': 6.987},\n",
    "    {'multiplier': 30, 'inhabitants': 2, 'real_percent': 6.987},\n",
    "    {'multiplier': 23, 'inhabitants': 2, 'real_percent': 1.614},\n",
    "    {'multiplier': 20, 'inhabitants': 2, 'real_percent': 1.614},\n",
    "    {'multiplier': 17, 'inhabitants': 1, 'real_percent': 7.539},\n",
    "    {'multiplier': 10, 'inhabitants': 1, 'real_percent': 0.998}\n",
    "]\n",
    "\n",
    "for suitcase in suitcases:\n",
    "    suitcase['value'] = (10000 * suitcase['multiplier']) / suitcase['inhabitants']\n",
    "\n",
    "sorted_suitcases = sorted(suitcases, key=lambda c: c['value'], reverse=True)\n",
    "\n",
    "print(sorted_suitcases)\n",
    "\n",
    "max_1 = sorted_suitcases[0]['value']\n",
    "max_2 = sorted_suitcases[0]['value'] + sorted_suitcases[1]['value'] - 50_000\n",
    "max_3 = sorted_suitcases[0]['value'] + sorted_suitcases[1]['value'] - 50_000 + sorted_suitcases[2]['value'] - 100_000\n",
    "\n",
    "print(f\"Max 1: {max_1}, suitcase: {sorted_suitcases[0]['multiplier']}x\")\n",
    "print(f\"Max 2: {max_2}, suitcases: {sorted_suitcases[0]['multiplier']}x, {sorted_suitcases[1]['multiplier']}x\")\n",
    "print(f\"Max 3: {max_3}, suitcases: {sorted_suitcases[0]['multiplier']}x, {sorted_suitcases[1]['multiplier']}x, {sorted_suitcases[2]['multiplier']}x\")"
   ]
  },
  {
   "cell_type": "code",
   "execution_count": null,
   "metadata": {},
   "outputs": [
    {
     "name": "stdout",
     "output_type": "stream",
     "text": [
      "[{'multiplier': 73, 'inhabitants': 4, 'real_percent': 24.06, 'value': 182500.0, 'percent': 7.9015028086764545, 'value_adjusted': 26015.68068424804}, {'multiplier': 70, 'inhabitants': 4, 'real_percent': 24.06, 'value': 175000.0, 'percent': 7.3305677629563455, 'value_adjusted': 24946.543121881685}, {'multiplier': 17, 'inhabitants': 1, 'real_percent': 7.539, 'value': 170000.0, 'percent': 6.97305175442045, 'value_adjusted': 19908.654409181403}, {'multiplier': 79, 'inhabitants': 5, 'real_percent': 24.06, 'value': 158000.0, 'percent': 6.184542107281929, 'value_adjusted': 27185.134205092912}, {'multiplier': 47, 'inhabitants': 3, 'real_percent': 5.118, 'value': 156666.66666666666, 'percent': 6.102628847774393, 'value_adjusted': 57896.0335057896}, {'multiplier': 31, 'inhabitants': 2, 'real_percent': 6.987, 'value': 155000.0, 'percent': 6.0017612650544265, 'value_adjusted': 34494.26950038945}, {'multiplier': 60, 'inhabitants': 4, 'real_percent': 8.516, 'value': 150000.0, 'percent': 5.709051914148398, 'value_adjusted': 47938.63854266539}, {'multiplier': 30, 'inhabitants': 2, 'real_percent': 6.987, 'value': 150000.0, 'percent': 5.709051914148398, 'value_adjusted': 33381.55112940915}, {'multiplier': 41, 'inhabitants': 3, 'real_percent': 5.118, 'value': 136666.66666666666, 'percent': 4.996409912293745, 'value_adjusted': 50505.0505050505}, {'multiplier': 80, 'inhabitants': 6, 'real_percent': 18.178, 'value': 133333.33333333334, 'percent': 4.832608111778399, 'value_adjusted': 33087.93117710315}, {'multiplier': 40, 'inhabitants': 3, 'real_percent': 5.118, 'value': 133333.33333333334, 'percent': 4.832608111778399, 'value_adjusted': 49273.22000492732}, {'multiplier': 50, 'inhabitants': 4, 'real_percent': 8.516, 'value': 125000.0, 'percent': 4.446214101334076, 'value_adjusted': 39948.86545222116}, {'multiplier': 37, 'inhabitants': 3, 'real_percent': 5.118, 'value': 123333.33333333333, 'percent': 4.3727246462412, 'value_adjusted': 45577.728504557774}, {'multiplier': 83, 'inhabitants': 7, 'real_percent': 18.178, 'value': 118571.42857142857, 'percent': 4.169379634516276, 'value_adjusted': 32965.287155453174}, {'multiplier': 23, 'inhabitants': 2, 'real_percent': 1.614, 'value': 115000.0, 'percent': 4.023100887486199, 'value_adjusted': 63641.39457664638}, {'multiplier': 89, 'inhabitants': 8, 'real_percent': 15.184, 'value': 111250.0, 'percent': 3.875028316754391, 'value_adjusted': 38388.543823326436}, {'multiplier': 20, 'inhabitants': 2, 'real_percent': 1.614, 'value': 100000.0, 'percent': 3.462715023822101, 'value_adjusted': 55340.34311012729}, {'multiplier': 10, 'inhabitants': 1, 'real_percent': 0.998, 'value': 100000.0, 'percent': 3.462715023822101, 'value_adjusted': 50050.05005005005}, {'multiplier': 90, 'inhabitants': 10, 'real_percent': 11.807, 'value': 90000.0, 'percent': 3.133194121549516, 'value_adjusted': 41271.15146512587}, {'multiplier': 100, 'inhabitants': 15, 'real_percent': 11.807, 'value': 66666.66666666667, 'percent': 2.4811437341627998, 'value_adjusted': 37303.68933487521}]\n",
      "[{'multiplier': 23, 'inhabitants': 2, 'real_percent': 1.614, 'value': 115000.0, 'percent': 4.023100887486199, 'value_adjusted': 63641.39457664638}, {'multiplier': 47, 'inhabitants': 3, 'real_percent': 5.118, 'value': 156666.66666666666, 'percent': 6.102628847774393, 'value_adjusted': 57896.0335057896}, {'multiplier': 20, 'inhabitants': 2, 'real_percent': 1.614, 'value': 100000.0, 'percent': 3.462715023822101, 'value_adjusted': 55340.34311012729}, {'multiplier': 41, 'inhabitants': 3, 'real_percent': 5.118, 'value': 136666.66666666666, 'percent': 4.996409912293745, 'value_adjusted': 50505.0505050505}, {'multiplier': 10, 'inhabitants': 1, 'real_percent': 0.998, 'value': 100000.0, 'percent': 3.462715023822101, 'value_adjusted': 50050.05005005005}, {'multiplier': 40, 'inhabitants': 3, 'real_percent': 5.118, 'value': 133333.33333333334, 'percent': 4.832608111778399, 'value_adjusted': 49273.22000492732}, {'multiplier': 60, 'inhabitants': 4, 'real_percent': 8.516, 'value': 150000.0, 'percent': 5.709051914148398, 'value_adjusted': 47938.63854266539}, {'multiplier': 37, 'inhabitants': 3, 'real_percent': 5.118, 'value': 123333.33333333333, 'percent': 4.3727246462412, 'value_adjusted': 45577.728504557774}, {'multiplier': 90, 'inhabitants': 10, 'real_percent': 11.807, 'value': 90000.0, 'percent': 3.133194121549516, 'value_adjusted': 41271.15146512587}, {'multiplier': 50, 'inhabitants': 4, 'real_percent': 8.516, 'value': 125000.0, 'percent': 4.446214101334076, 'value_adjusted': 39948.86545222116}, {'multiplier': 89, 'inhabitants': 8, 'real_percent': 15.184, 'value': 111250.0, 'percent': 3.875028316754391, 'value_adjusted': 38388.543823326436}, {'multiplier': 100, 'inhabitants': 15, 'real_percent': 11.807, 'value': 66666.66666666667, 'percent': 2.4811437341627998, 'value_adjusted': 37303.68933487521}, {'multiplier': 31, 'inhabitants': 2, 'real_percent': 6.987, 'value': 155000.0, 'percent': 6.0017612650544265, 'value_adjusted': 34494.26950038945}, {'multiplier': 30, 'inhabitants': 2, 'real_percent': 6.987, 'value': 150000.0, 'percent': 5.709051914148398, 'value_adjusted': 33381.55112940915}, {'multiplier': 80, 'inhabitants': 6, 'real_percent': 18.178, 'value': 133333.33333333334, 'percent': 4.832608111778399, 'value_adjusted': 33087.93117710315}, {'multiplier': 83, 'inhabitants': 7, 'real_percent': 18.178, 'value': 118571.42857142857, 'percent': 4.169379634516276, 'value_adjusted': 32965.287155453174}, {'multiplier': 79, 'inhabitants': 5, 'real_percent': 24.06, 'value': 158000.0, 'percent': 6.184542107281929, 'value_adjusted': 27185.134205092912}, {'multiplier': 73, 'inhabitants': 4, 'real_percent': 24.06, 'value': 182500.0, 'percent': 7.9015028086764545, 'value_adjusted': 26015.68068424804}, {'multiplier': 70, 'inhabitants': 4, 'real_percent': 24.06, 'value': 175000.0, 'percent': 7.3305677629563455, 'value_adjusted': 24946.543121881685}, {'multiplier': 17, 'inhabitants': 1, 'real_percent': 7.539, 'value': 170000.0, 'percent': 6.97305175442045, 'value_adjusted': 19908.654409181403}]\n",
      "Max 1 adjusted: 63641.39457664638, suitcase: 23x\n",
      "Max 2 adjusted: 71537.42808243597, suitcases: 23x, 47x\n",
      "Max 2 adjusted: 71537.42808243597, suitcases: 23x, 47x, 20x\n"
     ]
    }
   ],
   "source": [
    "value_by_multiplier = {c['multiplier']: c['value'] for c in suitcases}\n",
    "\n",
    "def softmax(values, temperature): # lower temp = greedier players\n",
    "    exp_vals = {k: math.exp(v / temperature) for k, v in values.items()}\n",
    "    total = sum(exp_vals.values())\n",
    "    return {k: v / total for k, v in exp_vals.items()}\n",
    "\n",
    "player_dist = softmax(value_by_multiplier, 100_000)\n",
    "\n",
    "for suitcase in suitcases:\n",
    "    suitcase['percent'] = player_dist[suitcase['multiplier']] * 100\n",
    "    suitcase['value_adjusted'] = (10_000 * suitcase['multiplier']) / (suitcase['inhabitants'] + suitcase['percent'])\n",
    "\n",
    "print(sorted_suitcases)\n",
    "\n",
    "sorted_suitcases_adjusted = sorted(suitcases, key=lambda c: c['value_adjusted'], reverse=True)\n",
    "\n",
    "print(sorted_suitcases_adjusted)\n",
    "\n",
    "max_1_adjusted = sorted_suitcases_adjusted[0]['value_adjusted']\n",
    "max_2_adjusted = sorted_suitcases_adjusted[0]['value_adjusted'] + sorted_suitcases_adjusted[1]['value_adjusted'] - 50_000\n",
    "max_3_adjusted = sorted_suitcases_adjusted[0]['value_adjusted'] + sorted_suitcases_adjusted[1]['value_adjusted'] - 50_000 + sorted_suitcases_adjusted[2]['value_adjusted'] - 100_000\n",
    "\n",
    "print(f\"Max 1 adjusted: {max_1_adjusted}, suitcase: {sorted_suitcases_adjusted[0]['multiplier']}x\")\n",
    "print(f\"Max 2 adjusted: {max_2_adjusted}, suitcases: {sorted_suitcases_adjusted[0]['multiplier']}x, {sorted_suitcases_adjusted[1]['multiplier']}x\")\n",
    "print(f\"Max 2 adjusted: {max_2_adjusted}, suitcases: {sorted_suitcases_adjusted[0]['multiplier']}x, {sorted_suitcases_adjusted[1]['multiplier']}x, {sorted_suitcases_adjusted[2]['multiplier']}x\")"
   ]
  }
 ],
 "metadata": {
  "kernelspec": {
   "display_name": "myenv",
   "language": "python",
   "name": "python3"
  },
  "language_info": {
   "codemirror_mode": {
    "name": "ipython",
    "version": 3
   },
   "file_extension": ".py",
   "mimetype": "text/x-python",
   "name": "python",
   "nbconvert_exporter": "python",
   "pygments_lexer": "ipython3",
   "version": "3.12.5"
  }
 },
 "nbformat": 4,
 "nbformat_minor": 2
}
