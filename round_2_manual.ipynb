{
 "cells": [
  {
   "cell_type": "code",
   "execution_count": 21,
   "metadata": {},
   "outputs": [
    {
     "name": "stdout",
     "output_type": "stream",
     "text": [
      "[{'multiplier': 73, 'inhabitants': 4, 'value': 182500.0}, {'multiplier': 17, 'inhabitants': 1, 'value': 170000.0}, {'multiplier': 31, 'inhabitants': 2, 'value': 155000.0}, {'multiplier': 80, 'inhabitants': 6, 'value': 133333.33333333334}, {'multiplier': 50, 'inhabitants': 4, 'value': 125000.0}, {'multiplier': 37, 'inhabitants': 3, 'value': 123333.33333333333}, {'multiplier': 89, 'inhabitants': 8, 'value': 111250.0}, {'multiplier': 20, 'inhabitants': 2, 'value': 100000.0}, {'multiplier': 10, 'inhabitants': 1, 'value': 100000.0}, {'multiplier': 90, 'inhabitants': 10, 'value': 90000.0}]\n",
      "Max value: 182500.0, Container: 73x\n",
      "Max combo: 302500.0, Containers: 73x, 17x\n"
     ]
    }
   ],
   "source": [
    "import math\n",
    "\n",
    "containers = [\n",
    "    {'multiplier': 90, 'inhabitants': 10},\n",
    "    {'multiplier': 89, 'inhabitants': 8},\n",
    "    {'multiplier': 80, 'inhabitants': 6},\n",
    "    {'multiplier': 73, 'inhabitants': 4},\n",
    "    {'multiplier': 50, 'inhabitants': 4},\n",
    "    {'multiplier': 37, 'inhabitants': 3},\n",
    "    {'multiplier': 31, 'inhabitants': 2},\n",
    "    {'multiplier': 20, 'inhabitants': 2},\n",
    "    {'multiplier': 17, 'inhabitants': 1},\n",
    "    {'multiplier': 10, 'inhabitants': 1}\n",
    "]\n",
    "\n",
    "for container in containers:\n",
    "    container['value'] = (10000 * container['multiplier']) / container['inhabitants']\n",
    "\n",
    "sorted_containers = sorted(containers, key=lambda c: c['value'], reverse=True)\n",
    "\n",
    "print(sorted_containers)\n",
    "\n",
    "max_value = sorted_containers[0]['value']\n",
    "max_combo = sorted_containers[0]['value'] + sorted_containers[1]['value'] - 50000\n",
    "\n",
    "print(f\"Max value: {max_value}, Container: {sorted_containers[0]['multiplier']}x\")\n",
    "print(f\"Max combo: {max_combo}, Containers: {sorted_containers[0]['multiplier']}x, {sorted_containers[1]['multiplier']}x\")"
   ]
  },
  {
   "cell_type": "code",
   "execution_count": null,
   "metadata": {},
   "outputs": [
    {
     "name": "stdout",
     "output_type": "stream",
     "text": [
      "[{'multiplier': 73, 'inhabitants': 4, 'value': 182500.0, 'percent': 12.918162096299273, 'value_adjusted': 43148.89500672666}, {'multiplier': 17, 'inhabitants': 1, 'value': 170000.0, 'percent': 12.135490220805451, 'value_adjusted': 12942.036965680587}, {'multiplier': 31, 'inhabitants': 2, 'value': 155000.0, 'percent': 11.258622005756111, 'value_adjusted': 23381.011983403427}, {'multiplier': 80, 'inhabitants': 6, 'value': 133333.33333333334, 'percent': 10.102681688260445, 'value_adjusted': 49681.16587582022}, {'multiplier': 50, 'inhabitants': 4, 'value': 125000.0, 'percent': 9.690385763908967, 'value_adjusted': 36521.980360708025}, {'multiplier': 37, 'inhabitants': 3, 'value': 123333.33333333333, 'percent': 9.609968088237885, 'value_adjusted': 29341.866483002636}, {'multiplier': 89, 'inhabitants': 8, 'value': 111250.0, 'percent': 9.046556930257447, 'value_adjusted': 52209.95674617788}, {'multiplier': 20, 'inhabitants': 2, 'value': 100000.0, 'percent': 8.551735421499522, 'value_adjusted': 18954.228097161453}, {'multiplier': 10, 'inhabitants': 1, 'value': 100000.0, 'percent': 8.551735421499522, 'value_adjusted': 10469.30171190829}, {'multiplier': 90, 'inhabitants': 10, 'value': 90000.0, 'percent': 8.134662363475362, 'value_adjusted': 49628.71554822387}]\n",
      "[{'multiplier': 89, 'inhabitants': 8, 'value': 111250.0, 'percent': 9.046556930257447, 'value_adjusted': 52209.95674617788}, {'multiplier': 80, 'inhabitants': 6, 'value': 133333.33333333334, 'percent': 10.102681688260445, 'value_adjusted': 49681.16587582022}, {'multiplier': 90, 'inhabitants': 10, 'value': 90000.0, 'percent': 8.134662363475362, 'value_adjusted': 49628.71554822387}, {'multiplier': 73, 'inhabitants': 4, 'value': 182500.0, 'percent': 12.918162096299273, 'value_adjusted': 43148.89500672666}, {'multiplier': 50, 'inhabitants': 4, 'value': 125000.0, 'percent': 9.690385763908967, 'value_adjusted': 36521.980360708025}, {'multiplier': 37, 'inhabitants': 3, 'value': 123333.33333333333, 'percent': 9.609968088237885, 'value_adjusted': 29341.866483002636}, {'multiplier': 31, 'inhabitants': 2, 'value': 155000.0, 'percent': 11.258622005756111, 'value_adjusted': 23381.011983403427}, {'multiplier': 20, 'inhabitants': 2, 'value': 100000.0, 'percent': 8.551735421499522, 'value_adjusted': 18954.228097161453}, {'multiplier': 17, 'inhabitants': 1, 'value': 170000.0, 'percent': 12.135490220805451, 'value_adjusted': 12942.036965680587}, {'multiplier': 10, 'inhabitants': 1, 'value': 100000.0, 'percent': 8.551735421499522, 'value_adjusted': 10469.30171190829}]\n",
      "Max value adjusted: 52209.95674617788, Container: 89x\n",
      "Max combo adjusted: 51891.1226219981, Containers: 89x, 80x\n"
     ]
    }
   ],
   "source": [
    "value_by_multiplier = {c['multiplier']: c['value'] for c in containers}\n",
    "\n",
    "def softmax(values, temperature): # lower temp = greedier players\n",
    "    exp_vals = {k: math.exp(v / temperature) for k, v in values.items()}\n",
    "    total = sum(exp_vals.values())\n",
    "    return {k: v / total for k, v in exp_vals.items()}\n",
    "\n",
    "player_dist = softmax(value_by_multiplier, 100000)\n",
    "\n",
    "for container in containers:\n",
    "    container['percent'] = player_dist[container['multiplier']] * 100\n",
    "    container['value_adjusted'] = (10000 * container['multiplier']) / (container['inhabitants'] + container['percent'])\n",
    "\n",
    "print(sorted_containers)\n",
    "\n",
    "sorted_containers_adjusted = sorted(containers, key=lambda c: c['value_adjusted'], reverse=True)\n",
    "\n",
    "print(sorted_containers_adjusted)\n",
    "\n",
    "max_value_adjusted = sorted_containers_adjusted[0]['value_adjusted']\n",
    "max_combo_adjusted = sorted_containers_adjusted[0]['value_adjusted'] + sorted_containers_adjusted[1]['value_adjusted'] - 50000\n",
    "\n",
    "print(f\"Max value adjusted: {max_value_adjusted}, Container: {sorted_containers_adjusted[0]['multiplier']}x\")\n",
    "print(f\"Max combo adjusted: {max_combo_adjusted}, Containers: {sorted_containers_adjusted[0]['multiplier']}x, {sorted_containers_adjusted[1]['multiplier']}x\")"
   ]
  }
 ],
 "metadata": {
  "kernelspec": {
   "display_name": "myenv",
   "language": "python",
   "name": "python3"
  },
  "language_info": {
   "codemirror_mode": {
    "name": "ipython",
    "version": 3
   },
   "file_extension": ".py",
   "mimetype": "text/x-python",
   "name": "python",
   "nbconvert_exporter": "python",
   "pygments_lexer": "ipython3",
   "version": "3.11.6"
  }
 },
 "nbformat": 4,
 "nbformat_minor": 2
}
