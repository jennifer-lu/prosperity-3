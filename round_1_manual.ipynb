{
 "cells": [
  {
   "cell_type": "code",
   "execution_count": 6,
   "metadata": {},
   "outputs": [
    {
     "name": "stdout",
     "output_type": "stream",
     "text": [
      "Maximum profit: 1.0887x\n",
      "Trades: SeaShells -> Snowballs -> Silicon Nuggets -> Pizzas -> Snowballs -> SeaShells\n"
     ]
    }
   ],
   "source": [
    "def max_profit_trades(trading_table, num_trades, currencies, start, end):\n",
    "    n = len(trading_table)\n",
    "\n",
    "    profits = [[0.0 for _ in range(n)] for _ in range(num_trades + 1)]\n",
    "    paths = [[[] for _ in range(n)] for _ in range(num_trades + 1)]\n",
    "\n",
    "    profits[0][start] = 1.0\n",
    "    paths[0][start] = [start]\n",
    "\n",
    "    for trade in range(1, num_trades + 1):\n",
    "        for curr in range(n):\n",
    "            for prev in range(n):\n",
    "                profit = profits[trade - 1][prev] * trading_table[prev][curr]\n",
    "                if profit > profits[trade][curr]:\n",
    "                    profits[trade][curr] = profit\n",
    "                    paths[trade][curr] = paths[trade - 1][prev] + [curr]\n",
    "\n",
    "    max_profit = profits[num_trades][end]\n",
    "    path = paths[num_trades][end]\n",
    "    trades = [currencies[i] for i in path]\n",
    "\n",
    "    return max_profit, trades\n",
    "\n",
    "currencies = ['Snowballs', 'Pizzas', 'Silicon Nuggets', 'SeaShells']\n",
    "own_currency = 3\n",
    "trading_table = [\n",
    "    [1,    1.45, 0.52, 0.72],\n",
    "    [0.7,  1,    0.31, 0.48],\n",
    "    [1.95, 3.1,  1,    1.49],\n",
    "    [1.34, 1.98, 0.64, 1]\n",
    "]\n",
    "num_trades = 5\n",
    "max_profit, trades = max_profit_trades(trading_table, num_trades, currencies, own_currency, own_currency)\n",
    "print(f\"Maximum profit: {max_profit:.4f}x\")\n",
    "print(\"Trades:\", \" -> \".join(trades))"
   ]
  }
 ],
 "metadata": {
  "kernelspec": {
   "display_name": "myenv",
   "language": "python",
   "name": "python3"
  },
  "language_info": {
   "codemirror_mode": {
    "name": "ipython",
    "version": 3
   },
   "file_extension": ".py",
   "mimetype": "text/x-python",
   "name": "python",
   "nbconvert_exporter": "python",
   "pygments_lexer": "ipython3",
   "version": "3.11.6"
  }
 },
 "nbformat": 4,
 "nbformat_minor": 2
}
